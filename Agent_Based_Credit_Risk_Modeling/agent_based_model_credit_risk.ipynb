{
 "cells": [
  {
   "attachments": {},
   "cell_type": "markdown",
   "metadata": {},
   "source": [
    "# Agent-based credit risk modeling"
   ]
  },
  {
   "attachments": {},
   "cell_type": "markdown",
   "metadata": {},
   "source": [
    "Summer School Bayonne July 2025<br>\n",
    "Author:      Dr. Mario Gellrich<br><br>\n",
    "Last update: 2025-07-01"
   ]
  },
  {
   "attachments": {},
   "cell_type": "markdown",
   "metadata": {},
   "source": [
    "<p>The term 'credit risk' refers to the risk that a lender may not receive the owed principal and interest. The principal is the amount a consumer borrowed and have to pay back. Interest is what the lender charges for lending the money. The credit risk of a borrower can be measured by the five Cs (see: <a>https://www.openriskmanual.org/wiki/Five_Cs_Of_Credit_Analysis</a>): capacity, capital, character, colletaral, conditions. Based on this information a credit score can be calculated for every consumer. A credit score is one indicator that lenders use to asses how likely it is that a borrower is to default. To compensate for the credit risk, consumers with lower credit scores are usually charged higher interest rates on loans than consumers with higher credit scores.</p>\n",
    "\n",
    "<p>The agent-based model (ABM) provided in this Jupyter notebook is used to explore the role of different parameters like the number of agents and loan term on the credit risk. It contains a Lender class, a Borrower class and a CreditModel class. The model contains different time steps corresponding to the number of month in which the loan must be repayed (the loan term). The model also contains different borrower agents. Each borrower has a credit score ranging from 50 to 100. The interest rate depends on the credit risk score. If the credit risk score is high, the interest rate is low and vice versa.</p>\n",
    "    \n",
    "<p>At the beginning, each borrower asks for a random amount of money (the principle) between 50,000 and 500,000 USD. The model steps correspond to the number of months in which the loan must be repayed. At each model step, the borrower must repay the monthly loan. To make the simulation more realistic, the behavior of each borrower with regard to the repayment of the loan is AI-induced. As in practise, the monthly payment remains the same throughout the loan term, but the allocation between principal and interest changes over time. At the beginning, a larger portion of the payment goes towards interest, while towards the end, a larger portion goes towards the principal. Sometimes a borrower cannot repay the monthly loan. If this happens, the borrower must repay the monthly rate owed in the next model step. If a borrower cannot repay the loan for three consecutive months, this borrower is removed from the model, and the remaining loan is considered as defaulted.</p>"
   ]
  },
  {
   "attachments": {},
   "cell_type": "markdown",
   "metadata": {},
   "source": [
    "## Model description"
   ]
  },
  {
   "attachments": {},
   "cell_type": "markdown",
   "metadata": {},
   "source": [
    "## Libraries and settings"
   ]
  },
  {
   "cell_type": "code",
   "execution_count": null,
   "metadata": {},
   "outputs": [],
   "source": [
    "# Libraries\n",
    "import os\n",
    "import re\n",
    "import json\n",
    "import random\n",
    "import numpy as np\n",
    "import pandas as pd\n",
    "from pathlib import Path\n",
    "import matplotlib.pyplot as plt\n",
    "from openai import OpenAI\n",
    "\n",
    "from mesa import Agent, Model\n",
    "from mesa.time import RandomActivation\n",
    "\n",
    "# Set random seed\n",
    "random.seed(42)\n",
    "\n",
    "# Ignore warnings\n",
    "import warnings\n",
    "warnings.filterwarnings('ignore')\n",
    "\n",
    "# OpenAI API key\n",
    "credentials = json.loads(Path('../credentials.json').read_text())['openai']\n",
    "api_key = credentials.get('api_key')\n",
    "\n",
    "# Create a client instance with the key\n",
    "client = OpenAI(api_key=api_key)\n",
    "\n",
    "# Show current working directory\n",
    "print(os.getcwd())"
   ]
  },
  {
   "attachments": {},
   "cell_type": "markdown",
   "metadata": {},
   "source": [
    "## Example loan calculation\n",
    "\n",
    "See: https://www.calculator.net/loan-calculator.html"
   ]
  },
  {
   "cell_type": "code",
   "execution_count": null,
   "metadata": {},
   "outputs": [],
   "source": [
    "# Input\n",
    "# p = loan amount (principle)\n",
    "# r = monthly interest rate\n",
    "# y = number of years\n",
    "# n = total number of months\n",
    "\n",
    "p = 100000\n",
    "r = 0.05 / 12\n",
    "y = 30\n",
    "n = y*12\n",
    "\n",
    "# Monthly loan\n",
    "m = p * r * (1 + r)**n / ((1 + r)**n - 1)\n",
    "\n",
    "# Summary of results\n",
    "print(f\"Principle: {p:.0f} USD\")\n",
    "print(f\"Loan term: {y} years ({y*12} months)\")\n",
    "print(f\"Interest rate: {r*12*100:.2f} %\")\n",
    "print(f\"Monthly loan: {m:.2f} USD\")\n",
    "print(f\"Annually loan: {m*12:.2f} USD\")\n",
    "print(f\"Total interest over {y} years: {m*n - p:.2f} USD\")\n",
    "print(f\"Principle plus interest over {y} years: {m*n:.2f} USD\")\n"
   ]
  },
  {
   "cell_type": "markdown",
   "metadata": {},
   "source": [
    "## Let gpt-3.5-turbo create a function to calculate the monthly loan"
   ]
  },
  {
   "cell_type": "code",
   "execution_count": null,
   "metadata": {},
   "outputs": [],
   "source": [
    "# Function to generate Python code based on a description using OpenAI's GPT-3.5-turbo\n",
    "def generate_function_code(description):\n",
    "    prompt = f\"Write a Python function that does the following: {description}\"\n",
    "\n",
    "    response = client.chat.completions.create(\n",
    "        model=\"gpt-3.5-turbo\",\n",
    "        messages=[\n",
    "            {\"role\": \"system\", \"content\": \"You are a helpful assistant.\"},\n",
    "            {\"role\": \"user\", \"content\": prompt}\n",
    "        ]\n",
    "    )\n",
    "\n",
    "    full_text = response.choices[0].message.content.strip()\n",
    "\n",
    "    # Extract code block from Markdown-style fenced code blocks\n",
    "    match = re.search(r\"```python(.*?)```\", full_text, re.DOTALL)\n",
    "    if match:\n",
    "        code_only = match.group(1).strip()\n",
    "    else:\n",
    "        # Fallback: try to keep only indented lines or plausible Python code\n",
    "        lines = full_text.splitlines()\n",
    "        code_only = \"\\n\".join(line for line in lines if line.strip().startswith(\n",
    "            \"def\") or line.strip().startswith(\" \") or line.strip().startswith(\"#\"))\n",
    "\n",
    "    return code_only\n",
    "\n",
    "\n",
    "# Example usage\n",
    "description = \"\"\"Calculate the monthly loan payment for a given loan amount, \n",
    "                 interest rate, and loan term in years. Test the function with\n",
    "                 a loan amount of $100,000, an interest rate of 5%, and a loan \n",
    "                 term of 30 years.\"\"\"\n",
    "\n",
    "function_code = generate_function_code(description)\n",
    "print(\"Generated function code:\")\n",
    "print(function_code)"
   ]
  },
  {
   "attachments": {},
   "cell_type": "markdown",
   "metadata": {},
   "source": [
    "## Basic agent-based credit risk model"
   ]
  },
  {
   "attachments": {},
   "cell_type": "markdown",
   "metadata": {},
   "source": [
    "### Lender class"
   ]
  },
  {
   "cell_type": "code",
   "execution_count": null,
   "metadata": {},
   "outputs": [],
   "source": [
    "class Lender_(Agent):\n",
    "    def __init__(self, unique_id, model):\n",
    "        super().__init__(unique_id, model)\n",
    "\n",
    "    # Calculate interest rate depending on the borrowers credit score\n",
    "    def calculate_interest_rate(self, borrower):\n",
    "        interest_rate = 0.04 + ((100 - borrower.credit_score) * 0.0004)\n",
    "        \n",
    "        return interest_rate"
   ]
  },
  {
   "attachments": {},
   "cell_type": "markdown",
   "metadata": {},
   "source": [
    "### Borrower class"
   ]
  },
  {
   "cell_type": "code",
   "execution_count": null,
   "metadata": {},
   "outputs": [],
   "source": [
    "class Borrower_(Agent):\n",
    "    def __init__(self, unique_id, model):\n",
    "        super().__init__(unique_id, model)\n",
    "        self.credit_score = random.randint(50, 100)\n",
    "        self.loan_amount = 100\n",
    "        self.principle = self.loan_amount\n",
    "    \n",
    "    # Display balance\n",
    "    def display_balance(self):\n",
    "        print(f\"Borrower {self.unique_id + 1}: Balance at step 0: {self.loan_amount:.2f}.- USD\")\n",
    "\n",
    "    # Loan payments per step (in this example, only the interest is payed)\n",
    "    def step(self):\n",
    "        repayment_amount = self.principle * self.interest_rate\n",
    "        self.loan_amount -= repayment_amount"
   ]
  },
  {
   "attachments": {},
   "cell_type": "markdown",
   "metadata": {},
   "source": [
    "### CreditModel class"
   ]
  },
  {
   "cell_type": "code",
   "execution_count": null,
   "metadata": {},
   "outputs": [],
   "source": [
    "class CreditModel_(Model):\n",
    "    def __init__(self, num_borrowers):\n",
    "        self.num_agents = num_borrowers\n",
    "        self.schedule = RandomActivation(self)\n",
    "        self.step_number = 0\n",
    "\n",
    "        for i in range(self.num_agents):\n",
    "            a = Borrower_(i, self)\n",
    "            self.schedule.add(a)\n",
    "\n",
    "        # Instance of Lender class\n",
    "        self.lender = Lender_(0, self)\n",
    "\n",
    "        # Calculate and show interest rates of borrower agents\n",
    "        self.interest_rate()\n",
    "\n",
    "    def interest_rate(self):\n",
    "        borrowers = self.schedule.agents\n",
    "        for borrower in borrowers:\n",
    "            borrower.interest_rate = self.lender.calculate_interest_rate(borrower)\n",
    "            print(f\"Interest rate of Borrower {borrower.unique_id + 1}: {borrower.interest_rate:.2%}\")\n",
    "\n",
    "    def step(self):\n",
    "        self.step_number += 1\n",
    "        self.schedule.step()\n"
   ]
  },
  {
   "attachments": {},
   "cell_type": "markdown",
   "metadata": {},
   "source": [
    "### Calling the Borrower, Lender and CreditModel classes"
   ]
  },
  {
   "cell_type": "code",
   "execution_count": null,
   "metadata": {},
   "outputs": [],
   "source": [
    "# Create a model with three agents\n",
    "print(\"Interest rates of borrowers:\")\n",
    "model = CreditModel_(3)\n",
    "\n",
    "# Print initial balance of agents\n",
    "print(\"\\nBalance of borrowers:\")\n",
    "for agent in model.schedule.agents:\n",
    "    agent.display_balance()\n",
    "\n",
    "# Run the model for five steps\n",
    "for i in range(5):\n",
    "    model.step()\n",
    "\n",
    "    # Print the balance of each agent\n",
    "    for agent in model.schedule.agents:\n",
    "        print(f\"Borrower {agent.unique_id + 1}: Balance at step {model.step_number}: {agent.loan_amount:.2f}.- USD\")\n"
   ]
  },
  {
   "attachments": {},
   "cell_type": "markdown",
   "metadata": {},
   "source": [
    "## Extended agent-based credit risk model"
   ]
  },
  {
   "attachments": {},
   "cell_type": "markdown",
   "metadata": {},
   "source": [
    "### Lender class"
   ]
  },
  {
   "cell_type": "code",
   "execution_count": null,
   "metadata": {},
   "outputs": [],
   "source": [
    "class Lender(Agent):\n",
    "    def __init__(self, unique_id, model):\n",
    "        super().__init__(unique_id, model)\n",
    "\n",
    "    # Calculate interest rate\n",
    "    def calculate_interest_rate(self, credit_score):\n",
    "        interest_rate = 0.04 + ((100 - credit_score) * 0.0004)\n",
    "        \n",
    "        return interest_rate\n",
    "\n",
    "# Example call of the Lender class\n",
    "l1 = Lender(1,1)\n",
    "l1.calculate_interest_rate(85)"
   ]
  },
  {
   "attachments": {},
   "cell_type": "markdown",
   "metadata": {},
   "source": [
    "### Borrower class with AI-induced bevavior"
   ]
  },
  {
   "cell_type": "code",
   "execution_count": null,
   "metadata": {},
   "outputs": [],
   "source": [
    "class Borrower(Agent):\n",
    "    PROFILES = [\"impulsive\", \"disciplined\", \"unlucky\"]\n",
    "\n",
    "    def __init__(self, unique_id, model, num_months, prob, use_ai=False):\n",
    "        super().__init__(unique_id, model)\n",
    "        self.num_months = num_months\n",
    "        self.use_ai = use_ai\n",
    "        self.credit_score = random.randint(50, 100)\n",
    "        self.profile = random.choice(self.PROFILES)\n",
    "\n",
    "        lender = Lender(1, 1)\n",
    "        self.interest_rate = lender.calculate_interest_rate(self.credit_score)\n",
    "        self.monthly_rate = self.interest_rate / 12\n",
    "\n",
    "        self.loan_amount = self.select_valid_loan_amount()\n",
    "        loan_info = self.calculate_loan_amount()\n",
    "        self.monthly_loan = loan_info[0]\n",
    "        self.balance = loan_info[1]\n",
    "\n",
    "        self.payed_off = False\n",
    "        self.time_to_repay = self.num_months\n",
    "        self.defaulted = []\n",
    "        self.removed = 0\n",
    "\n",
    "        self.income = self.simulate_income()\n",
    "        self.expenses = self.simulate_expenses()\n",
    "        self.prob = self.probability_of_payment(prob)\n",
    "\n",
    "    def select_valid_loan_amount(self, max_total_payment=500_000):\n",
    "        n = self.num_months\n",
    "        r = self.monthly_rate\n",
    "        valid_loans = []\n",
    "        for p in range(50_000, 500_000, 5000):\n",
    "            numerator = p * r * (1 + r) ** n\n",
    "            denominator = (1 + r) ** n - 1\n",
    "            monthly = numerator / denominator\n",
    "            total = monthly * n\n",
    "            if total <= max_total_payment:\n",
    "                valid_loans.append(p)\n",
    "        if not valid_loans:\n",
    "            raise ValueError(\"No valid loan amount under the total payment cap.\")\n",
    "        return random.choice(valid_loans)\n",
    "\n",
    "    def calculate_loan_amount(self):\n",
    "        p = self.loan_amount\n",
    "        r = self.monthly_rate\n",
    "        n = self.num_months\n",
    "        numerator = p * r * (1 + r) ** n\n",
    "        denominator = (1 + r) ** n - 1\n",
    "        monthly_loan = numerator / denominator\n",
    "        total_loan = monthly_loan * n\n",
    "        return [monthly_loan, total_loan, self.interest_rate, r]\n",
    "\n",
    "    def simulate_income(self):\n",
    "        base = 2000 + (self.credit_score - 50) * 80\n",
    "        return random.randint(int(base * 0.9), int(base * 1.2))\n",
    "\n",
    "    def simulate_expenses(self):\n",
    "        if self.profile == \"disciplined\":\n",
    "            return random.randint(int(self.income * 0.3), int(self.income * 0.5))\n",
    "        elif self.profile == \"impulsive\":\n",
    "            return random.randint(int(self.income * 0.6), int(self.income * 0.9))\n",
    "        elif self.profile == \"unlucky\":\n",
    "            return random.randint(int(self.income * 0.4), int(self.income * 0.8)) + random.randint(100, 500)\n",
    "\n",
    "    def probability_of_payment(self, p=0.10, length=20):\n",
    "        result = [0] * int(p * length) + [1] * (length - int(p * length))\n",
    "        random.shuffle(result)\n",
    "        return result\n",
    "\n",
    "    def generate_behavior_prompt(self):\n",
    "        return f\"\"\"\n",
    "            You are simulating a {self.profile} borrower deciding whether to pay their monthly loan installment.\n",
    "\n",
    "            Borrower profile: {self.profile.capitalize()}\n",
    "            Credit score: {self.credit_score}\n",
    "            Monthly income: ${self.income:,.2f}\n",
    "            Monthly expenses: ${self.expenses:,.2f}\n",
    "            Monthly loan payment: ${self.monthly_loan:,.2f}\n",
    "            Remaining balance: ${self.balance:,.2f}\n",
    "            Missed payments: {sum(self.defaulted)}\n",
    "            Months left to repay: {self.time_to_repay}\n",
    "\n",
    "            Based on this information, should the borrower pay this month?\n",
    "\n",
    "            Respond with only: pay or miss.\n",
    "            \"\"\"\n",
    "\n",
    "    def decide_to_pay(self):\n",
    "        if self.use_ai:\n",
    "            try:\n",
    "                response = client.chat.completions.create(\n",
    "                    model=\"gpt-3.5-turbo\",\n",
    "                    messages=[\n",
    "                        {\"role\": \"system\", \"content\": \"You simulate realistic financial decision-making by borrowers.\"},\n",
    "                        {\"role\": \"user\", \"content\": self.generate_behavior_prompt()}\n",
    "                    ],\n",
    "                    temperature=0.7\n",
    "                )\n",
    "                content = response.choices[0].message.content.strip().lower()\n",
    "                return \"pay\" in content\n",
    "            except Exception as e:\n",
    "                print(f\"[OpenAI error] {e}\")\n",
    "                return random.choice(self.prob) == 1\n",
    "        else:\n",
    "            return random.choice(self.prob) == 1\n",
    "\n",
    "    def step(self):\n",
    "        payment = 1 if self.decide_to_pay() else 0\n",
    "\n",
    "        if payment == 1:\n",
    "            missed = sum(self.defaulted)\n",
    "            multiplier = missed + 1\n",
    "            self.monthly_loan = self.calculate_loan_amount()[0] * multiplier\n",
    "            self.balance -= self.monthly_loan\n",
    "            self.defaulted = []\n",
    "            self.payed_off = True\n",
    "            self.time_to_repay -= 1\n",
    "        else:\n",
    "            self.defaulted.append(1)\n",
    "            if sum(self.defaulted) < 3:\n",
    "                self.payed_off = False\n",
    "                self.time_to_repay -= 1\n",
    "            else:\n",
    "                self.model.remove_agent(self)\n",
    "                self.removed = 1\n",
    "\n",
    "# Example usage\n",
    "b1 = Borrower(unique_id=1, model=1, num_months=360, prob=0.10, use_ai=False)\n",
    "b1.calculate_loan_amount()"
   ]
  },
  {
   "attachments": {},
   "cell_type": "markdown",
   "metadata": {},
   "source": [
    "### CreditModel class"
   ]
  },
  {
   "cell_type": "code",
   "execution_count": null,
   "metadata": {},
   "outputs": [],
   "source": [
    "class CreditModel(Model):\n",
    "\n",
    "    def __init__(self, num_borrowers, num_months, prob, use_ai=False):\n",
    "        self.num_borrowers = num_borrowers\n",
    "        self.num_months = num_months\n",
    "        self.schedule = RandomActivation(self)\n",
    "        self.step_number = 0\n",
    "        self.prob = prob\n",
    "        self.use_ai = use_ai\n",
    "\n",
    "        # Create agents with unique IDs and AI toggle\n",
    "        for i in range(self.num_borrowers):\n",
    "            borrower = Borrower(i, self, num_months, prob, use_ai=use_ai)\n",
    "            self.schedule.add(borrower)\n",
    "\n",
    "        # Create an empty DataFrame to store results\n",
    "        self.results_df = pd.DataFrame(columns=[\n",
    "            'Borrower', 'Step', 'Principle', 'Credit_Score',\n",
    "            'Interest_Rate', 'Balance', 'Payed_Off'\n",
    "        ])\n",
    "\n",
    "        # Store the initial state\n",
    "        for agent in self.schedule.agents:\n",
    "            new_row = {\n",
    "                'Borrower': agent.unique_id,\n",
    "                'Step': self.step_number,\n",
    "                'Principle': agent.loan_amount,\n",
    "                'Credit_Score': agent.credit_score,\n",
    "                'Interest_Rate': agent.calculate_loan_amount()[2],\n",
    "                'Balance': round(agent.balance, 2),\n",
    "                'Payed_Off': agent.payed_off\n",
    "            }\n",
    "            self.results_df = pd.concat([self.results_df,\n",
    "                                         pd.DataFrame(new_row, index=[0])],\n",
    "                                        ignore_index=True)\n",
    "\n",
    "    def step(self):\n",
    "        self.step_number += 1\n",
    "        self.schedule.step()\n",
    "\n",
    "        for agent in self.schedule.agents:\n",
    "            new_row = {\n",
    "                'Borrower': agent.unique_id,\n",
    "                'Step': self.step_number,\n",
    "                'Principle': agent.loan_amount,\n",
    "                'Credit_Score': agent.credit_score,\n",
    "                'Interest_Rate': agent.calculate_loan_amount()[2],\n",
    "                'Balance': round(agent.balance, 2),\n",
    "                'Payed_Off': agent.payed_off\n",
    "            }\n",
    "            self.results_df = pd.concat([self.results_df,\n",
    "                                         pd.DataFrame(new_row, index=[0])],\n",
    "                                        ignore_index=True)\n",
    "\n",
    "    def remove_agent(self, agent):\n",
    "        self.schedule.remove(agent)\n",
    "\n",
    "# Example call of the CreditModel class\n",
    "cm1 = CreditModel(num_borrowers = 2, num_months = 3, prob = 0.05, use_ai=False)\n",
    "for i in range(3):\n",
    "    cm1.step()\n",
    "cm1.results_df\n"
   ]
  },
  {
   "attachments": {},
   "cell_type": "markdown",
   "metadata": {},
   "source": [
    "### Model parameter settings"
   ]
  },
  {
   "cell_type": "code",
   "execution_count": null,
   "metadata": {},
   "outputs": [],
   "source": [
    "# Model parameters\n",
    "# num_borrowers:    Number of borrower agents in the model\n",
    "# num_months:       Credit period (loan term) in months\n",
    "# prob_defaulted:   Base probability that a borrower cannot repay the monthly loan (fallback)\n",
    "# use_ai:           Whether to use OpenAI for borrower decision-making (True = AI-based, False = probability-based)\n",
    "\n",
    "num_borrowers = 25\n",
    "num_months = 12\n",
    "prob_defaulted = 0.10\n",
    "use_ai = False"
   ]
  },
  {
   "attachments": {},
   "cell_type": "markdown",
   "metadata": {},
   "source": [
    "### Model run"
   ]
  },
  {
   "cell_type": "code",
   "execution_count": null,
   "metadata": {},
   "outputs": [],
   "source": [
    "# Model\n",
    "model = CreditModel(num_borrowers=num_borrowers, \n",
    "                    num_months=num_months, \n",
    "                    prob=prob_defaulted,\n",
    "                    use_ai=use_ai)\n",
    "\n",
    "# Run the model for multiple timesteps\n",
    "for i in range(num_months):\n",
    "    model.step()"
   ]
  },
  {
   "attachments": {},
   "cell_type": "markdown",
   "metadata": {},
   "source": [
    "### Analysis of model results"
   ]
  },
  {
   "attachments": {},
   "cell_type": "markdown",
   "metadata": {},
   "source": [
    "#### Data frame with model results per step"
   ]
  },
  {
   "cell_type": "code",
   "execution_count": null,
   "metadata": {},
   "outputs": [],
   "source": [
    "df = model.results_df\n",
    "df"
   ]
  },
  {
   "attachments": {},
   "cell_type": "markdown",
   "metadata": {},
   "source": [
    "#### Line charts with model results per step"
   ]
  },
  {
   "cell_type": "code",
   "execution_count": null,
   "metadata": {},
   "outputs": [],
   "source": [
    "# Pivot tables with balances and borrowers\n",
    "tab_balance = pd.pivot_table(df[['Step', 'Balance']],\n",
    "                            index=['Step'],\n",
    "                            values=['Balance'],\n",
    "                            aggfunc=np.sum)\n",
    "\n",
    "tab_borrowers = pd.pivot_table(df[['Step', 'Borrower']],\n",
    "                                index=['Step'],\n",
    "                                values=['Borrower'],\n",
    "                                aggfunc='count')\n",
    "\n",
    "# Line chart (balances)\n",
    "tab_balance_sorted = tab_balance.sort_index(ascending=False)\n",
    "fig, ax = plt.subplots(1, 2, figsize=(14, 4), sharex=True, sharey=False)\n",
    "ax[0].plot(tab_balance.index, tab_balance_sorted['Balance'], label=\"Repaid\", color=\"orange\")\n",
    "ax[0].set_xlim(1, num_months)\n",
    "ax[0].set_xlabel('Number of months')\n",
    "ax[0].set_ylabel('Loan repayd (USD)')\n",
    "ax[0].set_title('Total loan repayed')\n",
    "ax[0].ticklabel_format(useOffset=False, style='plain')\n",
    "ax[0].grid()\n",
    "\n",
    "# Line chart (borrowers)\n",
    "tab_borrowers_sorted = tab_borrowers.sort_index(ascending=False)\n",
    "ax[1].plot(tab_borrowers.index, tab_borrowers['Borrower'], label=\"Repaid\", color=\"green\")\n",
    "ax[1].set_xlim(1, num_months)\n",
    "ax[1].set_ylim(1, num_borrowers + 1)\n",
    "ax[1].set_xlabel('Number of months')\n",
    "ax[1].set_ylabel('Number of borrowers')\n",
    "ax[1].set_title('Number of borrowers who have repayed their loan')\n",
    "ax[1].ticklabel_format(useOffset=False, style='plain')\n",
    "ax[1].grid()\n",
    "\n",
    "# Set the spacing between subplots\n",
    "plt.subplots_adjust(left=0.1,\n",
    "                    bottom=0.1, \n",
    "                    right=0.9, \n",
    "                    top=0.9, \n",
    "                    wspace=0.2, \n",
    "                    hspace=0.2)\n",
    "\n",
    "# Show plot\n",
    "plt.show()"
   ]
  },
  {
   "attachments": {},
   "cell_type": "markdown",
   "metadata": {},
   "source": [
    "### Run multiple simulation models based on different model parameter settings"
   ]
  },
  {
   "attachments": {},
   "cell_type": "markdown",
   "metadata": {},
   "source": [
    "#### Function to run multiple simulation models and store the results"
   ]
  },
  {
   "cell_type": "code",
   "execution_count": null,
   "metadata": {},
   "outputs": [],
   "source": [
    "def simulation_models(num_borrowers, num_months, prob_defaulted, use_ai=use_ai):\n",
    "\n",
    "    # Model\n",
    "    model = CreditModel(num_borrowers=num_borrowers, \n",
    "                        num_months=num_months, \n",
    "                        prob=prob_defaulted,\n",
    "                        use_ai=use_ai)\n",
    "\n",
    "    # Run the model for multiple timesteps\n",
    "    for i in range(num_months):\n",
    "        model.step()\n",
    "\n",
    "    # Output\n",
    "    df = model.results_df\n",
    "\n",
    "    # Loan\n",
    "    loan_amount = df.loc[df['Step'] == 0]['Principle'].sum()\n",
    "    loan_plus_interest = df.loc[df['Step'] == 0]['Balance'].sum()\n",
    "\n",
    "    # Mean credit score\n",
    "    mean_credit_score = df.loc[df['Step'] == 0]['Credit_Score'].mean()\n",
    "\n",
    "    # Mean interest rate\n",
    "    mean_interest_rate = df.loc[df['Step'] == 0]['Interest_Rate'].mean()\n",
    "\n",
    "    # Mean loan amount\n",
    "    mean_loan_amount = df.loc[df['Step'] == 0]['Principle'].mean()\n",
    "\n",
    "    # Defaulted loan\n",
    "    defaulted_list = []\n",
    "    idx = list(set(df['Borrower']))\n",
    "\n",
    "    for i in idx:\n",
    "        defaulted_list.append(df.loc[(df['Borrower'] == i)]['Balance'].iloc[-1])\n",
    "\n",
    "    defaulted_loan_abs = sum(defaulted_list)\n",
    "    defaulted_loan_rel = sum(defaulted_list) / loan_plus_interest\n",
    "\n",
    "    # Defaulted borrowers\n",
    "    defaulted_borrowers = tab_borrowers['Borrower'].iloc[0] - tab_borrowers['Borrower'].iloc[-1]\n",
    "\n",
    "    # Profit (for simplification, the costs of investments are ignored here)\n",
    "    profit_abs = (loan_plus_interest - defaulted_loan_abs) - loan_amount\n",
    "    profit_rel = (profit_abs / loan_amount)\n",
    "\n",
    "    # Return on investment (ROI)\n",
    "    roi = profit_rel / (num_months / 12)\n",
    "\n",
    "    # Save results as data frame\n",
    "    df_exp = pd.DataFrame({ 'Borrowers': num_borrowers,\n",
    "                            'Months': num_months,\n",
    "                            'Mean_Credit_Score': int(mean_credit_score),\n",
    "                            'Mean_Interest_Rate': mean_interest_rate,\n",
    "                            'Mean_Loan_Amount': int(mean_loan_amount),\n",
    "                            'Total_Loan_Amount': int(loan_amount),\n",
    "                            'Total_Loan_Amount_plus_Interest': int(loan_plus_interest),\n",
    "                            'Borrowers_Defaulted': defaulted_borrowers,\n",
    "                            'Defaulted_Loan': defaulted_loan_rel, \n",
    "                            'ROI': roi}, index=[0])\n",
    "\n",
    "    return df_exp"
   ]
  },
  {
   "attachments": {},
   "cell_type": "markdown",
   "metadata": {},
   "source": [
    "#### Run multiple simulations"
   ]
  },
  {
   "cell_type": "code",
   "execution_count": null,
   "metadata": {},
   "outputs": [],
   "source": [
    "# Initialize df_sim as an empty data frame\n",
    "df_sim = pd.DataFrame()\n",
    "\n",
    "# List with the number of months for simulation\n",
    "param_month = [num * 36 for num in range(1, 10 + 1)]\n",
    "print(\"Number of months in the simulation:\", param_month)\n",
    "\n",
    "# Loop\n",
    "for i in param_month:\n",
    "    df_res = simulation_models(num_borrowers=25, \n",
    "                               num_months=i,\n",
    "                               prob_defaulted=0.10)\n",
    "    \n",
    "    df_sim = pd.concat([df_sim, df_res.reindex(df_res.index)], axis=0)\n",
    "\n",
    "# Result\n",
    "df_sim"
   ]
  },
  {
   "attachments": {},
   "cell_type": "markdown",
   "metadata": {},
   "source": [
    "#### Defaulted loan versus credit period in months"
   ]
  },
  {
   "cell_type": "code",
   "execution_count": null,
   "metadata": {},
   "outputs": [],
   "source": [
    "# Bar chart\n",
    "fig, ax = plt.subplots(figsize=(6,4))\n",
    "ax.bar(df_sim['Months'],\n",
    "       df_sim['Defaulted_Loan']*100, \n",
    "       align='center',\n",
    "       color='steelblue', \n",
    "       alpha=0.8,\n",
    "       width=20)\n",
    "ax.set_title('Defaulted loan versus number of months')\n",
    "ax.set_xlabel('loan term in months')\n",
    "ax.set_ylabel('defaulted loan (%)')\n",
    "ax.set_xticks(df_sim['Months'])\n",
    "ax.set_xticklabels(df_sim['Months']) \n",
    "ax.grid()\n",
    "\n",
    "# Show graph\n",
    "plt.show()"
   ]
  },
  {
   "attachments": {},
   "cell_type": "markdown",
   "metadata": {},
   "source": [
    "#### ROI versus defaulted loan"
   ]
  },
  {
   "cell_type": "code",
   "execution_count": null,
   "metadata": {},
   "outputs": [],
   "source": [
    "# Scatter plot\n",
    "x = df_sim['Defaulted_Loan']*100\n",
    "y = df_sim['ROI']*100\n",
    "\n",
    "# Fit a function\n",
    "fit = np.polyfit(x, y, 2)\n",
    "p = np.poly1d(fit)\n",
    "\n",
    "# Scatterplot\n",
    "plt.scatter(x, y, color='steelblue', alpha=0.8)\n",
    "\n",
    "# Create x values for the polynomial fit line\n",
    "x_fit = np.linspace(x.min(), x.max(), 100)\n",
    "\n",
    "# Create line showing the polynomial fit\n",
    "plt.plot(x_fit, p(x_fit), 'r')\n",
    "\n",
    "# Adding labels and title\n",
    "plt.title('ROI versus defaulted loan')\n",
    "plt.xlabel('defaulted loan (%)')\n",
    "plt.ylabel('ROI (%)')\n",
    "plt.grid()\n",
    "\n",
    "# Displaying the scatter plot\n",
    "plt.show()"
   ]
  },
  {
   "attachments": {},
   "cell_type": "markdown",
   "metadata": {},
   "source": [
    "### Jupyter notebook --footer info-- (please always provide this at the end of each notebook)"
   ]
  },
  {
   "cell_type": "code",
   "execution_count": null,
   "metadata": {},
   "outputs": [],
   "source": [
    "import os\n",
    "import platform\n",
    "import socket\n",
    "from platform import python_version\n",
    "from datetime import datetime\n",
    "\n",
    "print('-----------------------------------')\n",
    "print(os.name.upper())\n",
    "print(platform.system(), '|', platform.release())\n",
    "print('Datetime:', datetime.now().strftime(\"%Y-%m-%d %H:%M:%S\"))\n",
    "print('Python Version:', python_version())\n",
    "print('-----------------------------------')"
   ]
  }
 ],
 "metadata": {
  "kernelspec": {
   "display_name": "ss25env",
   "language": "python",
   "name": "python3"
  },
  "language_info": {
   "codemirror_mode": {
    "name": "ipython",
    "version": 3
   },
   "file_extension": ".py",
   "mimetype": "text/x-python",
   "name": "python",
   "nbconvert_exporter": "python",
   "pygments_lexer": "ipython3",
   "version": "3.11.13"
  }
 },
 "nbformat": 4,
 "nbformat_minor": 2
}

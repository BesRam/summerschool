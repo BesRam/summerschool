{
 "cells": [
  {
   "cell_type": "markdown",
   "metadata": {},
   "source": [
    "# Backtesting the 'buying-the-dip' Trading Strategy"
   ]
  },
  {
   "cell_type": "markdown",
   "metadata": {},
   "source": [
    "## Libraries and settings"
   ]
  },
  {
   "cell_type": "code",
   "execution_count": 1,
   "metadata": {},
   "outputs": [
    {
     "name": "stdout",
     "output_type": "stream",
     "text": [
      "Current working directory: u:\\Lektionen\\GitHub_Repositories\\summerschool_FS2024\\Trading_Bot\n"
     ]
    }
   ],
   "source": [
    "# Libraries\n",
    "import os\n",
    "import pandas as pd\n",
    "import numpy as np\n",
    "import matplotlib.pyplot as plt\n",
    "import yfinance as yf\n",
    "\n",
    "# Settings\n",
    "import warnings\n",
    "warnings.filterwarnings(\"ignore\")\n",
    "\n",
    "# Current working directory\n",
    "print(f'Current working directory: {os.getcwd()}')"
   ]
  },
  {
   "cell_type": "markdown",
   "metadata": {},
   "source": [
    "## Historical Data iShares Core MSCI World UCITS ETF"
   ]
  },
  {
   "cell_type": "code",
   "execution_count": 2,
   "metadata": {},
   "outputs": [
    {
     "name": "stderr",
     "output_type": "stream",
     "text": [
      "[*********************100%***********************]  1 of 1 completed\n"
     ]
    },
    {
     "data": {
      "text/html": [
       "<div>\n",
       "<style scoped>\n",
       "    .dataframe tbody tr th:only-of-type {\n",
       "        vertical-align: middle;\n",
       "    }\n",
       "\n",
       "    .dataframe tbody tr th {\n",
       "        vertical-align: top;\n",
       "    }\n",
       "\n",
       "    .dataframe thead th {\n",
       "        text-align: right;\n",
       "    }\n",
       "</style>\n",
       "<table border=\"1\" class=\"dataframe\">\n",
       "  <thead>\n",
       "    <tr style=\"text-align: right;\">\n",
       "      <th></th>\n",
       "      <th>Open</th>\n",
       "      <th>High</th>\n",
       "      <th>Low</th>\n",
       "      <th>Close</th>\n",
       "      <th>Adj Close</th>\n",
       "      <th>Volume</th>\n",
       "      <th>Monthly Return</th>\n",
       "    </tr>\n",
       "    <tr>\n",
       "      <th>Date</th>\n",
       "      <th></th>\n",
       "      <th></th>\n",
       "      <th></th>\n",
       "      <th></th>\n",
       "      <th></th>\n",
       "      <th></th>\n",
       "      <th></th>\n",
       "    </tr>\n",
       "  </thead>\n",
       "  <tbody>\n",
       "    <tr>\n",
       "      <th>2010-01-01</th>\n",
       "      <td>18.070000</td>\n",
       "      <td>18.600000</td>\n",
       "      <td>17.770000</td>\n",
       "      <td>17.940001</td>\n",
       "      <td>17.940001</td>\n",
       "      <td>14303</td>\n",
       "      <td>NaN</td>\n",
       "    </tr>\n",
       "    <tr>\n",
       "      <th>2010-02-01</th>\n",
       "      <td>17.820000</td>\n",
       "      <td>18.620001</td>\n",
       "      <td>17.139999</td>\n",
       "      <td>18.379999</td>\n",
       "      <td>18.379999</td>\n",
       "      <td>86540</td>\n",
       "      <td>0.024526</td>\n",
       "    </tr>\n",
       "    <tr>\n",
       "      <th>2010-03-01</th>\n",
       "      <td>18.559999</td>\n",
       "      <td>19.930000</td>\n",
       "      <td>18.549999</td>\n",
       "      <td>19.660000</td>\n",
       "      <td>19.660000</td>\n",
       "      <td>114226</td>\n",
       "      <td>0.069641</td>\n",
       "    </tr>\n",
       "    <tr>\n",
       "      <th>2010-04-01</th>\n",
       "      <td>19.770000</td>\n",
       "      <td>20.469999</td>\n",
       "      <td>19.770000</td>\n",
       "      <td>20.090000</td>\n",
       "      <td>20.090000</td>\n",
       "      <td>7314</td>\n",
       "      <td>0.021872</td>\n",
       "    </tr>\n",
       "    <tr>\n",
       "      <th>2010-05-01</th>\n",
       "      <td>20.070000</td>\n",
       "      <td>20.415001</td>\n",
       "      <td>18.580000</td>\n",
       "      <td>19.549999</td>\n",
       "      <td>19.549999</td>\n",
       "      <td>35831</td>\n",
       "      <td>-0.026879</td>\n",
       "    </tr>\n",
       "    <tr>\n",
       "      <th>...</th>\n",
       "      <td>...</td>\n",
       "      <td>...</td>\n",
       "      <td>...</td>\n",
       "      <td>...</td>\n",
       "      <td>...</td>\n",
       "      <td>...</td>\n",
       "      <td>...</td>\n",
       "    </tr>\n",
       "    <tr>\n",
       "      <th>2024-06-01</th>\n",
       "      <td>92.035004</td>\n",
       "      <td>95.639999</td>\n",
       "      <td>90.980003</td>\n",
       "      <td>95.190002</td>\n",
       "      <td>95.190002</td>\n",
       "      <td>1868280</td>\n",
       "      <td>0.049851</td>\n",
       "    </tr>\n",
       "    <tr>\n",
       "      <th>2024-07-01</th>\n",
       "      <td>94.779999</td>\n",
       "      <td>96.699997</td>\n",
       "      <td>92.750000</td>\n",
       "      <td>95.389999</td>\n",
       "      <td>95.389999</td>\n",
       "      <td>2885520</td>\n",
       "      <td>0.002101</td>\n",
       "    </tr>\n",
       "    <tr>\n",
       "      <th>2024-08-01</th>\n",
       "      <td>95.495003</td>\n",
       "      <td>95.849998</td>\n",
       "      <td>86.370003</td>\n",
       "      <td>95.080002</td>\n",
       "      <td>95.080002</td>\n",
       "      <td>3642166</td>\n",
       "      <td>-0.003250</td>\n",
       "    </tr>\n",
       "    <tr>\n",
       "      <th>2024-09-01</th>\n",
       "      <td>95.555000</td>\n",
       "      <td>97.120003</td>\n",
       "      <td>91.605003</td>\n",
       "      <td>96.364998</td>\n",
       "      <td>96.364998</td>\n",
       "      <td>2721556</td>\n",
       "      <td>0.013515</td>\n",
       "    </tr>\n",
       "    <tr>\n",
       "      <th>2024-10-01</th>\n",
       "      <td>96.910004</td>\n",
       "      <td>98.254997</td>\n",
       "      <td>96.169998</td>\n",
       "      <td>98.254997</td>\n",
       "      <td>98.254997</td>\n",
       "      <td>953073</td>\n",
       "      <td>0.019613</td>\n",
       "    </tr>\n",
       "  </tbody>\n",
       "</table>\n",
       "<p>178 rows × 7 columns</p>\n",
       "</div>"
      ],
      "text/plain": [
       "                 Open       High        Low      Close  Adj Close   Volume  \\\n",
       "Date                                                                         \n",
       "2010-01-01  18.070000  18.600000  17.770000  17.940001  17.940001    14303   \n",
       "2010-02-01  17.820000  18.620001  17.139999  18.379999  18.379999    86540   \n",
       "2010-03-01  18.559999  19.930000  18.549999  19.660000  19.660000   114226   \n",
       "2010-04-01  19.770000  20.469999  19.770000  20.090000  20.090000     7314   \n",
       "2010-05-01  20.070000  20.415001  18.580000  19.549999  19.549999    35831   \n",
       "...               ...        ...        ...        ...        ...      ...   \n",
       "2024-06-01  92.035004  95.639999  90.980003  95.190002  95.190002  1868280   \n",
       "2024-07-01  94.779999  96.699997  92.750000  95.389999  95.389999  2885520   \n",
       "2024-08-01  95.495003  95.849998  86.370003  95.080002  95.080002  3642166   \n",
       "2024-09-01  95.555000  97.120003  91.605003  96.364998  96.364998  2721556   \n",
       "2024-10-01  96.910004  98.254997  96.169998  98.254997  98.254997   953073   \n",
       "\n",
       "            Monthly Return  \n",
       "Date                        \n",
       "2010-01-01             NaN  \n",
       "2010-02-01        0.024526  \n",
       "2010-03-01        0.069641  \n",
       "2010-04-01        0.021872  \n",
       "2010-05-01       -0.026879  \n",
       "...                    ...  \n",
       "2024-06-01        0.049851  \n",
       "2024-07-01        0.002101  \n",
       "2024-08-01       -0.003250  \n",
       "2024-09-01        0.013515  \n",
       "2024-10-01        0.019613  \n",
       "\n",
       "[178 rows x 7 columns]"
      ]
     },
     "execution_count": 2,
     "metadata": {},
     "output_type": "execute_result"
    }
   ],
   "source": [
    "# Load historical data iShares Core MSCI World UCITS ETF\n",
    "ticker = 'IWDA.AS'\n",
    "df = yf.download(ticker, start='2010-01-01', end='2024-10-10', interval='1mo')\n",
    "\n",
    "# Monthly return\n",
    "df['Monthly Return'] = df['Adj Close'].pct_change()\n",
    "df"
   ]
  },
  {
   "cell_type": "markdown",
   "metadata": {},
   "source": [
    "## Backtesting buying-the-dip versus fixed monthly investment Strategy"
   ]
  },
  {
   "cell_type": "code",
   "execution_count": 3,
   "metadata": {},
   "outputs": [
    {
     "name": "stdout",
     "output_type": "stream",
     "text": [
      "Final portfolio value with fixed monthly investment: 471819.17 EUR\n",
      "Final portfolio value with investment after a drop: 394823.27 EUR\n",
      "\n",
      "Difference in portfolio values: -76995.90 EUR\n"
     ]
    }
   ],
   "source": [
    "# Strategy 1: Invest a fixed amount every month\n",
    "fixed_investment = 1000\n",
    "df['Fixed Investment'] = fixed_investment\n",
    "df['Fixed Shares'] = df['Fixed Investment'] / df['Adj Close']\n",
    "df['Fixed Total Shares'] = df['Fixed Shares'].cumsum()\n",
    "df['Fixed Portfolio Value'] = df['Fixed Total Shares'] * df['Adj Close']\n",
    "\n",
    "# Strategy 2: Invest cumulative monthly savings after a drop of X%\n",
    "threshold = 0.05\n",
    "monthly_savings = 1000\n",
    "df['Trigger Investment'] = 0.0\n",
    "df['Trigger Shares'] = 0.0 \n",
    "savings = 0.0\n",
    "\n",
    "# Ensure that the index is a simple integer\n",
    "df = df.reset_index()\n",
    "\n",
    "# Calculate the investments and shares bought\n",
    "for i in range(1, len(df)):\n",
    "    if threshold == 0.00:\n",
    "        # Invest fixed savings every month if the threshold is 0\n",
    "        df.loc[i, 'Trigger Investment'] = monthly_savings\n",
    "    else:\n",
    "        # Accumulate savings if the threshold is greater than 0\n",
    "        savings += monthly_savings\n",
    "        # Invest the accumulated savings if the price drops by the given threshold\n",
    "        if df.loc[i, 'Adj Close'] <= df.loc[i-1, 'Adj Close'] * (1 - threshold):\n",
    "            df.loc[i, 'Trigger Investment'] = savings\n",
    "            savings = 0\n",
    "    # Calculate the number of shares bought\n",
    "    df.loc[i, 'Trigger Shares'] = df.loc[i, 'Trigger Investment'] / df.loc[i, 'Adj Close']\n",
    "\n",
    "# Calculate total shares and portfolio values\n",
    "df['Trigger Total Shares'] = df['Trigger Shares'].cumsum()\n",
    "df['Trigger Portfolio Value'] = df['Trigger Total Shares'] * df['Adj Close']\n",
    "\n",
    "# Output the final portfolio values\n",
    "print(f\"Final portfolio value with fixed monthly investment: {df['Fixed Portfolio Value'].iloc[-1]:.2f} EUR\")\n",
    "print(f\"Final portfolio value with investment after a drop: {df['Trigger Portfolio Value'].iloc[-1]:.2f} EUR\")\n",
    "\n",
    "# Difference in portfolio values\n",
    "diff = df['Trigger Portfolio Value'].iloc[-1] - df['Fixed Portfolio Value'].iloc[-1]\n",
    "print(f\"\\nDifference in portfolio values: {diff:.2f} EUR\")"
   ]
  },
  {
   "cell_type": "markdown",
   "metadata": {},
   "source": [
    "## Plot the results"
   ]
  },
  {
   "cell_type": "code",
   "execution_count": 6,
   "metadata": {},
   "outputs": [
    {
     "data": {
      "image/png": "[encoded data removed]",
      "text/plain": [
       "<Figure size 800x500 with 1 Axes>"
      ]
     },
     "metadata": {},
     "output_type": "display_data"
    }
   ],
   "source": [
    "# Plot the results\n",
    "plt.figure(figsize=(8, 5))\n",
    "plt.plot(df['Date'], df['Fixed Portfolio Value'], label='Fixed Monthly Investment')\n",
    "plt.plot(df['Date'], df['Trigger Portfolio Value'], label='Investment After Drop')\n",
    "plt.title('Backtesting of Investment Strategies')\n",
    "plt.xlabel('Date')\n",
    "plt.ylabel('Portfolio Value')\n",
    "plt.legend()\n",
    "plt.grid(True)\n",
    "plt.show()"
   ]
  },
  {
   "cell_type": "markdown",
   "metadata": {},
   "source": [
    "### Jupyter notebook --footer info-- (please always provide this at the end of each notebook)"
   ]
  },
  {
   "cell_type": "code",
   "execution_count": 5,
   "metadata": {},
   "outputs": [
    {
     "name": "stdout",
     "output_type": "stream",
     "text": [
      "-----------------------------------\n",
      "NT\n",
      "Windows | 10\n",
      "Datetime: 2024-10-11 15:12:09\n",
      "Python Version: 3.11.9\n",
      "-----------------------------------\n"
     ]
    }
   ],
   "source": [
    "import os\n",
    "import platform\n",
    "import socket\n",
    "from platform import python_version\n",
    "from datetime import datetime\n",
    "\n",
    "print('-----------------------------------')\n",
    "print(os.name.upper())\n",
    "print(platform.system(), '|', platform.release())\n",
    "print('Datetime:', datetime.now().strftime(\"%Y-%m-%d %H:%M:%S\"))\n",
    "print('Python Version:', python_version())\n",
    "print('-----------------------------------')"
   ]
  }
 ],
 "metadata": {
  "kernelspec": {
   "display_name": "daenv",
   "language": "python",
   "name": "python3"
  },
  "language_info": {
   "codemirror_mode": {
    "name": "ipython",
    "version": 3
   },
   "file_extension": ".py",
   "mimetype": "text/x-python",
   "name": "python",
   "nbconvert_exporter": "python",
   "pygments_lexer": "ipython3",
   "version": "3.11.9"
  }
 },
 "nbformat": 4,
 "nbformat_minor": 2
}

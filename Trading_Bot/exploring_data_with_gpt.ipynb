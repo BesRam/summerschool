{
 "cells": [
  {
   "cell_type": "markdown",
   "metadata": {},
   "source": [
    "## Exploring data using Foundation Models"
   ]
  },
  {
   "cell_type": "code",
   "execution_count": 1,
   "metadata": {},
   "outputs": [
    {
     "name": "stdout",
     "output_type": "stream",
     "text": [
      "      Car  Horsepower  Mileage  Price\n",
      "0   Car_1         202   126324  38333\n",
      "1   Car_2         370   175203  17433\n",
      "2   Car_3         206   191335  20311\n",
      "3   Car_4         171    16023  20051\n",
      "4   Car_5         288    41090  21420\n",
      "5   Car_6         120    67221  32568\n",
      "6   Car_7         202    64820  35939\n",
      "7   Car_8         221      769  34769\n",
      "8   Car_9         314    59735  43693\n",
      "9  Car_10         187   194027  21396\n"
     ]
    }
   ],
   "source": [
    "# Libraries\n",
    "import json\n",
    "import openai\n",
    "import pandas as pd\n",
    "import numpy as np\n",
    "from pathlib import Path\n",
    "\n",
    "# OpenAI API key\n",
    "credentials = json.loads(Path('../credentials.json').read_text())['openai']\n",
    "openai.api_key = credentials.get('api_key')\n",
    "\n",
    "# Create a sample dataframe with 10 cars\n",
    "np.random.seed(42)\n",
    "\n",
    "df = pd.DataFrame({\n",
    "    'Car': [f'Car_{i+1}' for i in range(10)],\n",
    "    'Horsepower': np.random.randint(100, 400, size=10),\n",
    "    'Mileage': np.random.randint(0, 200000, size=10),\n",
    "    'Price': np.random.randint(15000, 45000, size=10)})\n",
    "\n",
    "print(df)"
   ]
  },
  {
   "cell_type": "markdown",
   "metadata": {},
   "source": [
    "## Exploring the data frame"
   ]
  },
  {
   "cell_type": "code",
   "execution_count": 2,
   "metadata": {},
   "outputs": [
    {
     "name": "stdout",
     "output_type": "stream",
     "text": [
      "\n",
      "Analysis result from OpenAI GPT-3.5 Turbo:\n",
      "To calculate the mean price, we first sum up all the prices and then divide by the total number of cars:\n",
      "\n",
      "Sum of prices = 38333 + 17433 + 20311 + 20051 + 21420 + 32568 + 35939 + 34769 + 43693 + 21396 = 285913\n",
      "\n",
      "Number of cars = 10\n",
      "\n",
      "Mean price = Sum of prices / Number of cars\n",
      "Mean price = 285913 / 10 = 28591.3\n",
      "\n",
      "Therefore, the mean price of these cars is $28,591.30.\n"
     ]
    }
   ],
   "source": [
    "# Function to analyze data with OpenAI GPT-3.5 Turbo\n",
    "def analyze_data_with_openai(dataframe):\n",
    "    prompt = f\"Analyze the following data and calculate mean prices: {dataframe.to_string()}\"\n",
    "    \n",
    "    response = openai.ChatCompletion.create(\n",
    "      model=\"gpt-3.5-turbo\",\n",
    "      messages=[\n",
    "          {\"role\": \"system\", \"content\": \"You are a helpful assistant.\"},\n",
    "          {\"role\": \"user\", \"content\": prompt}\n",
    "      ],\n",
    "      max_tokens=150\n",
    "    )\n",
    "    \n",
    "    return response['choices'][0]['message']['content'].strip()\n",
    "\n",
    "# Perform analysis based on a subset of the data\n",
    "analysis_result = analyze_data_with_openai(df)\n",
    "print(\"\\nAnalysis result from OpenAI GPT-3.5 Turbo:\")\n",
    "print(analysis_result)"
   ]
  }
 ],
 "metadata": {
  "kernelspec": {
   "display_name": "bai24env",
   "language": "python",
   "name": "python3"
  },
  "language_info": {
   "codemirror_mode": {
    "name": "ipython",
    "version": 3
   },
   "file_extension": ".py",
   "mimetype": "text/x-python",
   "name": "python",
   "nbconvert_exporter": "python",
   "pygments_lexer": "ipython3",
   "version": "3.10.14"
  }
 },
 "nbformat": 4,
 "nbformat_minor": 2
}

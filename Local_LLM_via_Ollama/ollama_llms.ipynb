{
 "cells": [
  {
   "cell_type": "markdown",
   "metadata": {},
   "source": [
    "# Setting up an LLM on GitHub codespaces\n",
    "\n",
    "Note: Read the section **'Run OLLAMA in your Codespace'** in the README.md before you start."
   ]
  },
  {
   "cell_type": "code",
   "execution_count": null,
   "metadata": {},
   "outputs": [],
   "source": [
    "import re\n",
    "from openai import OpenAI\n",
    "\n",
    "# Set up the OpenAI client\n",
    "client = OpenAI(\n",
    "    base_url=\"http://localhost:11434/v1\",\n",
    "    api_key=\"nokeyneeded\",\n",
    ")\n",
    "\n",
    "# Create a chat completion request\n",
    "response = client.chat.completions.create(\n",
    "    model=\"llama3.2:latest\",\n",
    "    messages=[\n",
    "        {\"role\": \"system\", \"content\": \"You are a helpful assistant.\"},\n",
    "        {\"role\": \"user\", \"content\": \"\"\"Create simulated car data with 1000 \n",
    "                                       observations and three columns 'car_id',  \n",
    "                                       'mileage' and 'price'. Display the first \n",
    "                                       10 rows of the data frame.\"\"\"},\n",
    "    ]\n",
    ")\n",
    "\n",
    "# Extract the assistant message content\n",
    "message_content = response.choices[0].message.content\n",
    "\n",
    "# Extract the Python code block using regex\n",
    "match = re.search(r'```python(.*?)```', message_content, re.DOTALL)\n",
    "if match:\n",
    "    code = match.group(1).strip()\n",
    "    print(code)\n",
    "else:\n",
    "    print(\"No code block found.\")"
   ]
  },
  {
   "cell_type": "markdown",
   "metadata": {},
   "source": [
    "## Check whether the generated Python code is valid"
   ]
  },
  {
   "cell_type": "code",
   "execution_count": null,
   "metadata": {},
   "outputs": [],
   "source": [
    "# Run the AI-generated Python code and check, whether it works\n",
    "exec(code)"
   ]
  },
  {
   "cell_type": "markdown",
   "metadata": {},
   "source": [
    "### Jupyter notebook --footer info-- (please always provide this at the end of each notebook)"
   ]
  },
  {
   "cell_type": "code",
   "execution_count": null,
   "metadata": {},
   "outputs": [],
   "source": [
    "import os\n",
    "import platform\n",
    "import socket\n",
    "from platform import python_version\n",
    "from datetime import datetime\n",
    "\n",
    "print('-----------------------------------')\n",
    "print(os.name.upper())\n",
    "print(platform.system(), '|', platform.release())\n",
    "print('Datetime:', datetime.now().strftime(\"%Y-%m-%d %H:%M:%S\"))\n",
    "print('Python Version:', python_version())\n",
    "print('-----------------------------------')"
   ]
  }
 ],
 "metadata": {
  "kernelspec": {
   "display_name": "spenv",
   "language": "python",
   "name": "python3"
  },
  "language_info": {
   "codemirror_mode": {
    "name": "ipython",
    "version": 3
   },
   "file_extension": ".py",
   "mimetype": "text/x-python",
   "name": "python",
   "nbconvert_exporter": "python",
   "pygments_lexer": "ipython3",
   "version": "3.11.10"
  }
 },
 "nbformat": 4,
 "nbformat_minor": 2
}
